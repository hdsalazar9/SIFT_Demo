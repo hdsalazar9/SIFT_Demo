{
 "cells": [
  {
   "cell_type": "markdown",
   "metadata": {},
   "source": [
    "# Object Recognition SIFT Code Example"
   ]
  },
  {
   "cell_type": "code",
   "execution_count": 1,
   "metadata": {},
   "outputs": [],
   "source": [
    "import cv2\n",
    "import numpy as np"
   ]
  },
  {
   "cell_type": "code",
   "execution_count": 2,
   "metadata": {},
   "outputs": [
    {
     "name": "stdout",
     "output_type": "stream",
     "text": [
      "Patito patito_1.jpg tomado!\n",
      "Patito patito_2.jpg tomado!\n",
      "Escape hit, closing...\n"
     ]
    }
   ],
   "source": [
    "#Tomado de: https://stackoverflow.com/questions/34588464/python-how-to-capture-image-from-webcam-on-click-using-opencv\n",
    "#Tomar nuevas fotos de patitos\n",
    "cam = cv2.VideoCapture(0)\n",
    "\n",
    "cv2.namedWindow(\"Tomando fotos de patitos\")\n",
    "\n",
    "patito_counter = 1\n",
    "\n",
    "while True:\n",
    "    ret, frame = cam.read()\n",
    "    cv2.imshow(\"Patito\", frame)\n",
    "    if not ret:\n",
    "        break\n",
    "    k = cv2.waitKey(1)\n",
    "\n",
    "    if k%256 == 27:\n",
    "        # ESC pressed\n",
    "        print(\"Escape hit, closing...\")\n",
    "        break\n",
    "    elif k%256 == 32:\n",
    "        # SPACE pressed\n",
    "        img_name = \"patito_{}.jpg\".format(patito_counter)\n",
    "        cv2.imwrite(img_name, frame)\n",
    "        print(\"Patito {} tomado!\".format(img_name))\n",
    "        patito_counter += 1\n",
    "\n",
    "cam.release()\n",
    "\n",
    "cv2.destroyAllWindows()"
   ]
  },
  {
   "cell_type": "code",
   "execution_count": 3,
   "metadata": {},
   "outputs": [],
   "source": [
    "img1 = cv2.imread(\"patito_1.jpg\", cv2.IMREAD_GRAYSCALE)\n",
    "img1 = cv2.resize(img1, (450,300), interpolation = cv2.INTER_AREA)\n",
    "\n",
    "img2 = cv2.imread(\"patito_2.jpg\", cv2.IMREAD_GRAYSCALE)\n",
    "img2 = cv2.resize(img2, (450,300), interpolation = cv2.INTER_AREA)"
   ]
  },
  {
   "cell_type": "code",
   "execution_count": 4,
   "metadata": {},
   "outputs": [],
   "source": [
    "#Creando el analizador de caracteristicas SIFT\n",
    "\n",
    "sift = cv2.xfeatures2d.SIFT_create()\n",
    "\n",
    "keypoints1, descriptors1 = sift.detectAndCompute(img1, None)\n",
    "keypoints2, descriptors2 = sift.detectAndCompute(img2, None)"
   ]
  },
  {
   "cell_type": "code",
   "execution_count": 5,
   "metadata": {},
   "outputs": [],
   "source": [
    "#Hacer Match de caracteristicas con Brute Force\n",
    "#Se usa normType = NORM_L1, para medir correctamente la distancia entre carac.\n",
    "bf = cv2.BFMatcher(cv2.NORM_L1, crossCheck = True)\n",
    "\n",
    "matches = bf.match(descriptors1, descriptors2)\n",
    "\n",
    "#Acomodar ascendentemente la distancia entre las caracteristicas matcheadas\n",
    "#Entre menor sea la distancia mejor es el match\n",
    "matches = sorted(matches, key = lambda x:x.distance)"
   ]
  },
  {
   "cell_type": "code",
   "execution_count": 6,
   "metadata": {},
   "outputs": [],
   "source": [
    "#Crear una imagen con el match de las dos imagenes y sus respectivos keypoints\n",
    "#Imagen 1 y sus keypoints, Imagen 2 y sus keypoints, Agarrar los mejores 30 matches\n",
    "matching_results = cv2.drawMatches(img1, keypoints1, img2, keypoints2, matches[:20], None)\n",
    "\n",
    "#Marcar los keypoints con su tamaño y orientacion\n",
    "img1 = cv2.drawKeypoints(img1, keypoints1, None, flags=cv2.DRAW_MATCHES_FLAGS_DRAW_RICH_KEYPOINTS)\n",
    "img2 = cv2.drawKeypoints(img2, keypoints2, None, flags=cv2.DRAW_MATCHES_FLAGS_DRAW_RICH_KEYPOINTS)"
   ]
  },
  {
   "cell_type": "code",
   "execution_count": 7,
   "metadata": {},
   "outputs": [],
   "source": [
    "cv2.imshow(\"Patito 1\", img1)\n",
    "cv2.imshow(\"Patito 2\", img2)\n",
    "cv2.imshow(\"Matching Patitos\", matching_results)\n",
    "cv2.waitKey(0)\n",
    "cv2.destroyAllWindows()"
   ]
  },
  {
   "cell_type": "code",
   "execution_count": null,
   "metadata": {},
   "outputs": [],
   "source": []
  }
 ],
 "metadata": {
  "kernelspec": {
   "display_name": "Python 3",
   "language": "python",
   "name": "python3"
  },
  "language_info": {
   "codemirror_mode": {
    "name": "ipython",
    "version": 3
   },
   "file_extension": ".py",
   "mimetype": "text/x-python",
   "name": "python",
   "nbconvert_exporter": "python",
   "pygments_lexer": "ipython3",
   "version": "3.7.4"
  }
 },
 "nbformat": 4,
 "nbformat_minor": 2
}
